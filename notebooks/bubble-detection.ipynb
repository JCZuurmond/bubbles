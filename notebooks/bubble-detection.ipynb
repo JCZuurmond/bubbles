{
 "cells": [
  {
   "cell_type": "code",
   "execution_count": null,
   "metadata": {},
   "outputs": [],
   "source": [
    "%load_ext autoreload\n",
    "%autoreload 2\n",
    "%matplotlib inline"
   ]
  },
  {
   "cell_type": "markdown",
   "metadata": {},
   "source": [
    "# Bubble detection\n",
    "\n",
    "The goal is to detect bubbles in the image. The bubbles are a little darker than the background and have a circle-like shape. They vary in sizes."
   ]
  },
  {
   "cell_type": "code",
   "execution_count": null,
   "metadata": {},
   "outputs": [],
   "source": [
    "import cv2\n",
    "import matplotlib\n",
    "import numpy as np\n",
    "from matplotlib import pyplot as plt\n",
    "\n",
    "from bubbles.helpers import scale_wrt_vertical_gradient"
   ]
  },
  {
   "cell_type": "code",
   "execution_count": null,
   "metadata": {},
   "outputs": [],
   "source": [
    "def remove_axes_ticks(*axes):\n",
    "    for ax in axes:\n",
    "        ax.set_xticks([])\n",
    "        ax.set_yticks([])"
   ]
  },
  {
   "cell_type": "code",
   "execution_count": null,
   "metadata": {},
   "outputs": [],
   "source": [
    "path = '../data/image.bmp'\n",
    "img = cv2.imread(path, 0)    # 0 --> grayscale\n",
    "\n",
    "# Removes the dark vertical gradient\n",
    "img = scale_wrt_vertical_gradient(img)\n",
    "\n",
    "fig, ax = plt.subplots(figsize=(10, 8))\n",
    "ax.imshow(img, cmap='gray')\n",
    "remove_axes_ticks(ax)"
   ]
  },
  {
   "cell_type": "markdown",
   "metadata": {},
   "source": [
    "# Gaussian filtering\n",
    "\n",
    "Apply gaussian filter to remove the noise in the background."
   ]
  },
  {
   "cell_type": "code",
   "execution_count": null,
   "metadata": {},
   "outputs": [],
   "source": [
    "kernel_size = 21\n",
    "img_smoothed = cv2.GaussianBlur(\n",
    "    img,\n",
    "    (kernel_size, kernel_size),\n",
    "    sigmaX=0     # with 0 automatic computed (see docs) \n",
    ")\n",
    "\n",
    "fig, (ax_upper, ax_lower) = plt.subplots(2, figsize=(10, 8))\n",
    "ax_upper.imshow(img, cmap='gray')\n",
    "ax_upper.set_title('original')\n",
    "\n",
    "ax_lower.imshow(img_smoothed, cmap='gray')\n",
    "ax_lower.set_title('blurred image')\n",
    "\n",
    "remove_axes_ticks(ax_upper, ax_lower)\n",
    "fig.tight_layout()"
   ]
  },
  {
   "cell_type": "markdown",
   "metadata": {},
   "source": [
    "# Canny edge\n",
    "\n",
    "Apply edge detections to find the contours"
   ]
  },
  {
   "cell_type": "code",
   "execution_count": null,
   "metadata": {},
   "outputs": [],
   "source": [
    "edges = cv2.Canny(\n",
    "    img_smoothed, \n",
    "    threshold1=1000,     # thresholds used to determine edges\n",
    "    threshold2=2000,     # (see docs)\n",
    "    apertureSize=7,\n",
    "    L2gradient=True\n",
    ")\n",
    "\n",
    "fig, (ax_upper, ax_lower) = plt.subplots(2, figsize=(10, 8))\n",
    "\n",
    "ax_upper.imshow(img, cmap='gray')\n",
    "ax_upper.set_title('original')\n",
    "\n",
    "ax_lower.imshow(edges, cmap='gray')\n",
    "ax_lower.set_title('edges')\n",
    "\n",
    "remove_axes_ticks(ax_upper, ax_lower)\n",
    "fig.tight_layout()"
   ]
  },
  {
   "cell_type": "markdown",
   "metadata": {},
   "source": [
    "# Find contours\n",
    "\n",
    "Find the contours, useing the edges. Get stats on the contours with: https://docs.opencv.org/trunk/dd/d49/tutorial_py_contour_features.html"
   ]
  },
  {
   "cell_type": "code",
   "execution_count": null,
   "metadata": {},
   "outputs": [],
   "source": [
    "contours, hierarchy = cv2.findContours(\n",
    "    edges, \n",
    "    cv2.RETR_TREE, \n",
    "    cv2.CHAIN_APPROX_SIMPLE\n",
    ")\n",
    "\n",
    "# contours = [cnt for cnt in contours if cv2.isContourConvex(cnt)]    # too strict\n",
    "contours = [cnt for cnt in contours if len(cnt) > 10]"
   ]
  },
  {
   "cell_type": "code",
   "execution_count": null,
   "metadata": {},
   "outputs": [],
   "source": [
    "img_w_countours = cv2.drawContours(\n",
    "    img.copy(), \n",
    "    contours, \n",
    "    -1,            # draw all contours\n",
    "    color=0,             \n",
    "    thickness=3\n",
    ")\n",
    "\n",
    "fig, (ax_upper, ax_lower) = plt.subplots(2, figsize=(10, 8))\n",
    "\n",
    "ax_upper.imshow(img, cmap='gray')\n",
    "ax_lower.imshow(img_w_countours, cmap='gray')\n",
    "fig.tight_layout()\n",
    "remove_axes_ticks(ax_upper, ax_lower)"
   ]
  },
  {
   "cell_type": "markdown",
   "metadata": {},
   "source": [
    "---\n",
    "\n",
    "# Misc.\n",
    "\n",
    "Everything below is me trying different things."
   ]
  },
  {
   "cell_type": "markdown",
   "metadata": {},
   "source": [
    "## Contour features"
   ]
  },
  {
   "cell_type": "code",
   "execution_count": null,
   "metadata": {},
   "outputs": [],
   "source": [
    "fig, (ax_upper, ax_lower) = plt.subplots(2, figsize=(10, 8))\n",
    "\n",
    "for cnt in contours:\n",
    "    (x, y ), radius = cv2.minEnclosingCircle(cnt)\n",
    "    ax_lower.add_artist(plt.Circle((x, y),  radius, color='r', fill=False))\n",
    "\n",
    "ax_upper.imshow(img, cmap='gray')\n",
    "ax_lower.imshow(img_w_countours, cmap='gray')\n",
    "remove_axes_ticks(ax_lower, ax_upper)\n",
    "fig.tight_layout()"
   ]
  },
  {
   "cell_type": "code",
   "execution_count": null,
   "metadata": {},
   "outputs": [],
   "source": [
    "fig, (ax_upper, ax_lower) = plt.subplots(2, figsize=(10, 8))\n",
    "\n",
    "for cnt in contours:\n",
    "    [xy, (width, height), angle] = cv2.fitEllipse(cnt)\n",
    "    ax_lower.add_artist(matplotlib.patches.Ellipse(xy, width, height, angle, color='r', fill=False))\n",
    "\n",
    "ax_upper.imshow(img, cmap='gray')\n",
    "ax_lower.imshow(img_w_countours, cmap='gray')\n",
    "remove_axes_ticks(ax_lower, ax_upper)\n",
    "fig.tight_layout()"
   ]
  },
  {
   "cell_type": "markdown",
   "metadata": {},
   "source": [
    "# Connect components"
   ]
  },
  {
   "cell_type": "code",
   "execution_count": null,
   "metadata": {},
   "outputs": [],
   "source": [
    "retval, labels = cv2.connectedComponents(\n",
    "    edges, \n",
    "    connectivity=8, \n",
    "    ltype=cv2.CV_32S\n",
    ")\n",
    "\n",
    "fig, (ax_upper, ax_lower) = plt.subplots(2, figsize=(10, 8))\n",
    "ax_upper.imshow(img, cmap='gray')\n",
    "ax_lower.imshow(labels)\n",
    "remove_axes_ticks(ax_upper, ax_lower)\n",
    "plt.tight_layout()"
   ]
  },
  {
   "cell_type": "markdown",
   "metadata": {},
   "source": [
    "# Hough circles\n",
    "\n",
    "Trying to find the circles. Does not work well. I think perfect circles are too restrictive."
   ]
  },
  {
   "cell_type": "code",
   "execution_count": null,
   "metadata": {},
   "outputs": [],
   "source": [
    "cimg = cv2.cvtColor(img, cv2.COLOR_GRAY2BGR)\n",
    "\n",
    "circles = cv2.HoughCircles(\n",
    "    img_w_countours,\n",
    "    cv2.HOUGH_GRADIENT,\n",
    "    1,\n",
    "    20,\n",
    "    param1=50,\n",
    "    param2=40,\n",
    "    minRadius=0,\n",
    "    maxRadius=50,\n",
    ")\n",
    "\n",
    "fig, (ax_upper, ax_lower) = plt.subplots(2, figsize=(10, 8))\n",
    "\n",
    "circles = np.uint16(np.around(circles))\n",
    "\n",
    "for circle in circles[0, :]:\n",
    "    for ax in ax_upper, ax_lower:\n",
    "        ax.add_artist(plt.Circle((circle[0], circle[1]),  circle[2], color='r', fill=False))\n",
    "\n",
    "ax_upper.imshow(img, cmap='gray')\n",
    "ax_lower.imshow(img_w_countours, cmap='gray')"
   ]
  }
 ],
 "metadata": {
  "kernelspec": {
   "display_name": "Python 3",
   "language": "python",
   "name": "python3"
  },
  "language_info": {
   "codemirror_mode": {
    "name": "ipython",
    "version": 3
   },
   "file_extension": ".py",
   "mimetype": "text/x-python",
   "name": "python",
   "nbconvert_exporter": "python",
   "pygments_lexer": "ipython3",
   "version": "3.7.5"
  }
 },
 "nbformat": 4,
 "nbformat_minor": 2
}
